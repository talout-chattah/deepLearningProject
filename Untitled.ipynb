{
 "cells": [
  {
   "cell_type": "code",
   "execution_count": 3,
   "id": "d1d824dc-3157-4d10-b78d-d503908b794c",
   "metadata": {},
   "outputs": [
    {
     "name": "stderr",
     "output_type": "stream",
     "text": [
      "2024-12-04 21:02:40.533971: I tensorflow/core/util/port.cc:153] oneDNN custom operations are on. You may see slightly different numerical results due to floating-point round-off errors from different computation orders. To turn them off, set the environment variable `TF_ENABLE_ONEDNN_OPTS=0`.\n",
      "2024-12-04 21:02:40.570132: E external/local_xla/xla/stream_executor/cuda/cuda_fft.cc:485] Unable to register cuFFT factory: Attempting to register factory for plugin cuFFT when one has already been registered\n",
      "2024-12-04 21:02:40.598845: E external/local_xla/xla/stream_executor/cuda/cuda_dnn.cc:8473] Unable to register cuDNN factory: Attempting to register factory for plugin cuDNN when one has already been registered\n",
      "2024-12-04 21:02:40.607355: E external/local_xla/xla/stream_executor/cuda/cuda_blas.cc:1471] Unable to register cuBLAS factory: Attempting to register factory for plugin cuBLAS when one has already been registered\n",
      "2024-12-04 21:02:40.632685: I tensorflow/core/platform/cpu_feature_guard.cc:211] This TensorFlow binary is optimized to use available CPU instructions in performance-critical operations.\n",
      "To enable the following instructions: SSE3 SSE4.1 SSE4.2 AVX, in other operations, rebuild TensorFlow with the appropriate compiler flags.\n",
      "/home/happy_snyder/.local/lib/python3.12/site-packages/tqdm/auto.py:21: TqdmWarning: IProgress not found. Please update jupyter and ipywidgets. See https://ipywidgets.readthedocs.io/en/stable/user_install.html\n",
      "  from .autonotebook import tqdm as notebook_tqdm\n"
     ]
    }
   ],
   "source": [
    "import matplotlib.pyplot as plt\n",
    "import numpy as np\n",
    "from scipy.ndimage import rotate\n",
    "import tensorflow.compat.v1 as tf\n",
    "import gzip\n",
    "import pickle\n",
    "import sys\n",
    "sys.path.extend(['alg/'])\n",
    "from VCL.ddm.alg import vcl, coreset, utils\n",
    "from copy import deepcopy\n",
    "from utilsP import *\n",
    "import seaborn as sns\n",
    "\n",
    "with gzip.open('data/mnist.pkl.gz', 'rb') as f:\n",
    "            train_set, valid_set, test_set = pickle.load(f, encoding='latin1')\n",
    "\n",
    "rotated_train_set_images = []\n",
    "\n",
    "for image in train_set[0]:\n",
    "\n",
    "    # Flattened MNIST image array\n",
    "    image_flattened = image  # Replace \"...\" with the full array\n",
    "\n",
    "    # Step 1: Reshape to 28x28\n",
    "    image_2d = image_flattened.reshape(28, 28)\n",
    "\n",
    "    # Step 2: Choose a random angle from [0, 90, 180, 270]\n",
    "    angle = random.choice([0, 90, 180, 270])\n",
    "\n",
    "    # Step 2: Rotate the image (e.g., 45 degrees)\n",
    "    rotated_image_2d = rotate(image_2d, angle=angle, reshape=False)\n",
    "\n",
    "    # Step 3: Flatten back to 1D if needed\n",
    "    rotated_image_flattened = rotated_image_2d.flatten()\n",
    "\n",
    "    rotated_train_set_images.append(rotated_image_flattened)\n",
    "\n",
    "rotated_train_set = [rotated_train_set_images,train_set[1]]\n",
    "\n"
   ]
  },
  {
   "cell_type": "code",
   "execution_count": 28,
   "id": "9a20a8f2-b083-496b-889c-ea3a46d86a4e",
   "metadata": {},
   "outputs": [],
   "source": [
    "plt.figure(figsize=(8, 4))\n",
    "\n",
    "# Original Image\n",
    "plt.subplot(1, 2, 1)\n",
    "plt.title(\"Original Image\")\n",
    "plt.imshow(image_2d, cmap=\"gray\")\n",
    "plt.axis(\"off\")\n",
    "\n",
    "plt.tight_layout()\n",
    "plt.show()"
   ]
  },
  {
   "cell_type": "code",
   "execution_count": null,
   "id": "6098fff7-9998-4aad-99f4-ac293bc3a643",
   "metadata": {},
   "outputs": [],
   "source": []
  }
 ],
 "metadata": {
  "kernelspec": {
   "display_name": "Python 3 (ipykernel)",
   "language": "python",
   "name": "python3"
  },
  "language_info": {
   "codemirror_mode": {
    "name": "ipython",
    "version": 3
   },
   "file_extension": ".py",
   "mimetype": "text/x-python",
   "name": "python",
   "nbconvert_exporter": "python",
   "pygments_lexer": "ipython3",
   "version": "3.12.3"
  }
 },
 "nbformat": 4,
 "nbformat_minor": 5
}
