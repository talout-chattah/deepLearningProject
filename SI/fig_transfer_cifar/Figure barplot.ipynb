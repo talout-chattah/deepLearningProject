{
 "cells": [
  {
   "cell_type": "code",
   "execution_count": null,
   "metadata": {
    "collapsed": true
   },
   "outputs": [],
   "source": [
    "# Copyright (c) 2017 Ben Poole & Friedemann Zenke\n",
    "# MIT License -- see LICENSE for details\n",
    "# \n",
    "# This file is part of the code to reproduce the core results of:\n",
    "# Zenke, F., Poole, B., and Ganguli, S. (2017). Continual Learning Through\n",
    "# Synaptic Intelligence. In Proceedings of the 34th International Conference on\n",
    "# Machine Learning, D. Precup, and Y.W. Teh, eds. (International Convention\n",
    "# Centre, Sydney, Australia: PMLR), pp. 3987–3995.\n",
    "# http://proceedings.mlr.press/v70/zenke17a.html"
   ]
  },
  {
   "cell_type": "code",
   "execution_count": 19,
   "metadata": {
    "collapsed": false
   },
   "outputs": [
    {
     "name": "stdout",
     "output_type": "stream",
     "text": [
      "Populating the interactive namespace from numpy and matplotlib\n"
     ]
    },
    {
     "name": "stderr",
     "output_type": "stream",
     "text": [
      "/usr/local/lib/python3.5/dist-packages/IPython/core/magics/pylab.py:160: UserWarning: pylab import has clobbered these variables: ['colors']\n",
      "`%matplotlib` prevents importing * from pylab and numpy\n",
      "  \"\\n`%matplotlib` prevents importing * from pylab and numpy\"\n"
     ]
    }
   ],
   "source": [
    "%pylab inline"
   ]
  },
  {
   "cell_type": "code",
   "execution_count": 20,
   "metadata": {
    "collapsed": true
   },
   "outputs": [],
   "source": [
    "import sys, os\n",
    "sys.path.extend([os.path.expanduser('..')])\n",
    "from pathint import utils\n",
    "import seaborn as sns\n",
    "\n",
    "rcParams['pdf.fonttype'] = 42\n",
    "rcParams['ps.fonttype'] = 42"
   ]
  },
  {
   "cell_type": "code",
   "execution_count": 21,
   "metadata": {
    "collapsed": true
   },
   "outputs": [],
   "source": [
    "datafile_name = \"split_cifar10_data_path_int[omega_decay=sum,xi=0.001]_lr1.00e-03_ep60.pkl.gz\"\n",
    "# backup all_evals to disk\n",
    "# all_evals = dict() # uncomment to delete on disk\n",
    "data = utils.load_zipped_pickle( datafile_name )"
   ]
  },
  {
   "cell_type": "code",
   "execution_count": 22,
   "metadata": {
    "collapsed": true
   },
   "outputs": [],
   "source": [
    "colors = (sns.color_palette(\"deep\"))\n",
    "colors[2] = 'lightgray'"
   ]
  },
  {
   "cell_type": "code",
   "execution_count": 23,
   "metadata": {
    "collapsed": false
   },
   "outputs": [
    {
     "data": {
      "image/png": "[encoded data removed]",
      "text/plain": [
       "<matplotlib.figure.Figure at 0x7fcf1f81c5f8>"
      ]
     },
     "metadata": {},
     "output_type": "display_data"
    }
   ],
   "source": [
    "sns.set_style('ticks')\n",
    "figure(figsize=(3.3, 2.2))\n",
    "ax = axes()\n",
    "cval = 0.01 # orig value\n",
    "cvals = [0, cval, 'scratch']\n",
    "# cvals = [cval]\n",
    "# cvals = [0, cval]\n",
    "n_tasks = 6\n",
    "group_width = 0.8\n",
    "bar_width = group_width/len(cvals)\n",
    "bar_width = group_width/3\n",
    "index = np.arange(n_tasks)\n",
    "xtick_labels = ['Task %i'%(i+1) for i in range(n_tasks)]\n",
    "# xtick_labels[0] = 'CIFAR10'\n",
    "\n",
    "def do_plot(eval_type=0, age=-1):\n",
    "    for k,cv in enumerate(cvals):\n",
    "        means = []\n",
    "        stdevs = []\n",
    "        # print(cv)\n",
    "        for tid in range(n_tasks):\n",
    "            if cv=='scratch':\n",
    "                a = tid\n",
    "            else:\n",
    "                a = age\n",
    "            means.append( data['mean'][cv][a, tid, eval_type] )\n",
    "            stdevs.append( data['std'][cv][a, tid, eval_type] )\n",
    "        # print(means)\n",
    "        \n",
    "        bar(index+k*bar_width, means, width=bar_width, yerr=stdevs, color=colors[k], ecolor='gray')\n",
    "        xticks(index)\n",
    "        # gca().set_xticklabels()\n",
    "        if eval_type==0:\n",
    "            ylabel('Validation accuracy')\n",
    "        else:\n",
    "            ylabel('Training accuracy')\n",
    "        xticks(index+group_width/2, xtick_labels,  fontsize=8)\n",
    "        xlim(-0.1, 6.0)\n",
    "        # ylim(0.5, 1.0)\n",
    "        yticks(np.arange(0.0, 1.1, 0.2))\n",
    "        legend(('Fine tuning', 'Consolidation', 'From scratch'), bbox_to_anchor=(0., 1.02, 1., .102), loc=3,\n",
    "           ncol=2, mode='expand', borderaxespad=0., fontsize=8)\n",
    "        \n",
    "        ax.annotate('CIFAR10', xy=(0.27, 0.12), xytext=(0.27, 0.02), xycoords='figure fraction', \n",
    "            fontsize=8, ha='center', va='bottom',\n",
    "            bbox=dict(boxstyle='square', fc='white'),\n",
    "            arrowprops=dict(arrowstyle='-[, widthB=1.7, lengthB=0.5', lw=1.0))\n",
    "\n",
    "        ax.annotate('CIFAR100, 10 classes per task', xy=(0.66, 0.12), xytext=(0.66, 0.02), xycoords='figure fraction', \n",
    "            fontsize=8, ha='center', va='bottom',\n",
    "            bbox=dict(boxstyle='square', fc='white'),\n",
    "            arrowprops=dict(arrowstyle='-[, widthB=9.4, lengthB=0.5', lw=1.0))\n",
    "\n",
    "do_plot(eval_type=0)\n",
    "sns.despine()\n",
    "subplots_adjust(left=.21, bottom=.25, right=.98, top=.82)\n",
    "savefig(\"cifar10_cifar100_transfer_valid.pdf\")"
   ]
  },
  {
   "cell_type": "code",
   "execution_count": 24,
   "metadata": {
    "collapsed": false
   },
   "outputs": [
    {
     "data": {
      "image/png": "[encoded data removed]",
      "text/plain": [
       "<matplotlib.figure.Figure at 0x7fcf1a71bfd0>"
      ]
     },
     "metadata": {},
     "output_type": "display_data"
    }
   ],
   "source": [
    "sns.set_style('ticks')\n",
    "figure(figsize=(3.3, 2.2))\n",
    "ax = axes()\n",
    "do_plot(eval_type=1)\n",
    "sns.despine()\n",
    "subplots_adjust(left=.21, bottom=.25, right=.98, top=.82)\n",
    "savefig(\"cifar10_cifar100_transfer_train.pdf\")"
   ]
  },
  {
   "cell_type": "code",
   "execution_count": null,
   "metadata": {
    "collapsed": true
   },
   "outputs": [],
   "source": []
  }
 ],
 "metadata": {
  "kernelspec": {
   "display_name": "Python 3",
   "language": "python",
   "name": "python3"
  },
  "language_info": {
   "codemirror_mode": {
    "name": "ipython",
    "version": 3
   },
   "file_extension": ".py",
   "mimetype": "text/x-python",
   "name": "python",
   "nbconvert_exporter": "python",
   "pygments_lexer": "ipython3",
   "version": "3.5.2"
  }
 },
 "nbformat": 4,
 "nbformat_minor": 2
}
